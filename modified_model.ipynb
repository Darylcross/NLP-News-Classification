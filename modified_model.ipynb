{
 "cells": [
  {
   "cell_type": "markdown",
   "id": "d44c1a40",
   "metadata": {},
   "source": [
    "Library importing"
   ]
  },
  {
   "cell_type": "code",
   "execution_count": 1,
   "id": "99dbd793",
   "metadata": {},
   "outputs": [],
   "source": [
    "import os\n",
    "import pandas as pd\n",
    "import regex as re\n",
    "import numpy as np\n",
    "import spacy\n",
    "from rapidfuzz import process\n",
    "from sklearn.feature_extraction.text import TfidfVectorizer, CountVectorizer\n",
    "from sklearn.model_selection import train_test_split\n",
    "from sklearn.naive_bayes import MultinomialNB\n",
    "from sklearn.metrics import classification_report, confusion_matrix, accuracy_score\n",
    "import seaborn as sns\n",
    "import matplotlib.pyplot as plt\n",
    "\n",
    "nlp = spacy.load(\"en_core_web_sm\")"
   ]
  },
  {
   "cell_type": "markdown",
   "id": "d525dd19",
   "metadata": {},
   "source": [
    "Dataseti ayarlama ve yükleme"
   ]
  },
  {
   "cell_type": "code",
   "execution_count": 2,
   "id": "431aa6b6",
   "metadata": {},
   "outputs": [
    {
     "name": "stderr",
     "output_type": "stream",
     "text": [
      "<>:1: SyntaxWarning: invalid escape sequence '\\d'\n",
      "<>:1: SyntaxWarning: invalid escape sequence '\\d'\n",
      "C:\\Users\\baros\\AppData\\Local\\Temp\\ipykernel_15640\\2862975243.py:1: SyntaxWarning: invalid escape sequence '\\d'\n",
      "  path = \".\\datasets\"\n"
     ]
    }
   ],
   "source": [
    "path = \".\\datasets\""
   ]
  },
  {
   "cell_type": "code",
   "execution_count": 3,
   "id": "9d2e8061",
   "metadata": {},
   "outputs": [],
   "source": [
    "def load_news_articles(base_path):\n",
    "    data = []\n",
    "    categories = os.listdir(base_path)\n",
    "    \n",
    "    for category in categories:\n",
    "        category_path = os.path.join(base_path, category)\n",
    "        if os.path.isdir(category_path):\n",
    "            for filename in os.listdir(category_path):\n",
    "                file_path = os.path.join(category_path, filename)\n",
    "                with open(file_path, 'r', encoding = 'latin1') as file:\n",
    "                    content = file.read()\n",
    "                    data.append((content, category))\n",
    "    \n",
    "    return pd.DataFrame(data, columns = ['text', 'category'])\n",
    "\n",
    "news_df = load_news_articles(path)"
   ]
  },
  {
   "cell_type": "code",
   "execution_count": 12,
   "id": "08922f2b",
   "metadata": {},
   "outputs": [
    {
     "data": {
      "text/html": [
       "<div>\n",
       "<style scoped>\n",
       "    .dataframe tbody tr th:only-of-type {\n",
       "        vertical-align: middle;\n",
       "    }\n",
       "\n",
       "    .dataframe tbody tr th {\n",
       "        vertical-align: top;\n",
       "    }\n",
       "\n",
       "    .dataframe thead th {\n",
       "        text-align: right;\n",
       "    }\n",
       "</style>\n",
       "<table border=\"1\" class=\"dataframe\">\n",
       "  <thead>\n",
       "    <tr style=\"text-align: right;\">\n",
       "      <th></th>\n",
       "      <th>text</th>\n",
       "      <th>category</th>\n",
       "    </tr>\n",
       "  </thead>\n",
       "  <tbody>\n",
       "    <tr>\n",
       "      <th>0</th>\n",
       "      <td>Ad sales boost Time Warner profit\\n\\nQuarterly...</td>\n",
       "      <td>business</td>\n",
       "    </tr>\n",
       "    <tr>\n",
       "      <th>1</th>\n",
       "      <td>Dollar gains on Greenspan speech\\n\\nThe dollar...</td>\n",
       "      <td>business</td>\n",
       "    </tr>\n",
       "    <tr>\n",
       "      <th>2</th>\n",
       "      <td>Yukos unit buyer faces loan claim\\n\\nThe owner...</td>\n",
       "      <td>business</td>\n",
       "    </tr>\n",
       "    <tr>\n",
       "      <th>3</th>\n",
       "      <td>High fuel prices hit BA's profits\\n\\nBritish A...</td>\n",
       "      <td>business</td>\n",
       "    </tr>\n",
       "    <tr>\n",
       "      <th>4</th>\n",
       "      <td>Pernod takeover talk lifts Domecq\\n\\nShares in...</td>\n",
       "      <td>business</td>\n",
       "    </tr>\n",
       "  </tbody>\n",
       "</table>\n",
       "</div>"
      ],
      "text/plain": [
       "                                                text  category\n",
       "0  Ad sales boost Time Warner profit\\n\\nQuarterly...  business\n",
       "1  Dollar gains on Greenspan speech\\n\\nThe dollar...  business\n",
       "2  Yukos unit buyer faces loan claim\\n\\nThe owner...  business\n",
       "3  High fuel prices hit BA's profits\\n\\nBritish A...  business\n",
       "4  Pernod takeover talk lifts Domecq\\n\\nShares in...  business"
      ]
     },
     "execution_count": 12,
     "metadata": {},
     "output_type": "execute_result"
    }
   ],
   "source": [
    "news_df.head()"
   ]
  },
  {
   "cell_type": "code",
   "execution_count": 8,
   "id": "86645ddc",
   "metadata": {},
   "outputs": [
    {
     "name": "stdout",
     "output_type": "stream",
     "text": [
      "<class 'pandas.core.frame.DataFrame'>\n",
      "RangeIndex: 2225 entries, 0 to 2224\n",
      "Data columns (total 2 columns):\n",
      " #   Column    Non-Null Count  Dtype \n",
      "---  ------    --------------  ----- \n",
      " 0   text      2225 non-null   object\n",
      " 1   category  2225 non-null   object\n",
      "dtypes: object(2)\n",
      "memory usage: 34.9+ KB\n"
     ]
    }
   ],
   "source": [
    "news_df.info()"
   ]
  },
  {
   "cell_type": "code",
   "execution_count": 11,
   "id": "f28d4d67",
   "metadata": {},
   "outputs": [
    {
     "data": {
      "text/plain": [
       "array(['business', 'entertainment', 'politics', 'sport', 'tech'],\n",
       "      dtype=object)"
      ]
     },
     "execution_count": 11,
     "metadata": {},
     "output_type": "execute_result"
    }
   ],
   "source": [
    "news_df[\"category\"].unique()"
   ]
  },
  {
   "cell_type": "markdown",
   "id": "eb418d03",
   "metadata": {},
   "source": [
    "Named-Entitiy"
   ]
  },
  {
   "cell_type": "code",
   "execution_count": 13,
   "id": "98d338b4",
   "metadata": {},
   "outputs": [],
   "source": [
    "def preserve_entities(text):\n",
    "    doc = nlp(text)\n",
    "    preserved = text\n",
    "    for ent in doc.ents:\n",
    "        tag = f\"<{ent.label_}:{ent.text.replace(' ', '_')}>\" # Replace spaces with underscores in the entity text\n",
    "        preserved = preserved.replace(ent.text, tag) # Preserve the entity text\n",
    "    return preserved"
   ]
  },
  {
   "cell_type": "code",
   "execution_count": 14,
   "id": "42d555fa",
   "metadata": {},
   "outputs": [],
   "source": [
    "news_df['text_preserved'] = news_df['text'].apply(preserve_entities)"
   ]
  },
  {
   "cell_type": "code",
   "execution_count": 15,
   "id": "d1307bda",
   "metadata": {},
   "outputs": [
    {
     "data": {
      "text/html": [
       "<div>\n",
       "<style scoped>\n",
       "    .dataframe tbody tr th:only-of-type {\n",
       "        vertical-align: middle;\n",
       "    }\n",
       "\n",
       "    .dataframe tbody tr th {\n",
       "        vertical-align: top;\n",
       "    }\n",
       "\n",
       "    .dataframe thead th {\n",
       "        text-align: right;\n",
       "    }\n",
       "</style>\n",
       "<table border=\"1\" class=\"dataframe\">\n",
       "  <thead>\n",
       "    <tr style=\"text-align: right;\">\n",
       "      <th></th>\n",
       "      <th>text</th>\n",
       "      <th>category</th>\n",
       "      <th>text_preserved</th>\n",
       "    </tr>\n",
       "  </thead>\n",
       "  <tbody>\n",
       "    <tr>\n",
       "      <th>0</th>\n",
       "      <td>Ad sales boost Time Warner profit\\n\\nQuarterly...</td>\n",
       "      <td>business</td>\n",
       "      <td>Ad sales boost &lt;ORG:Time_Warner&gt; profit\\n\\n&lt;DA...</td>\n",
       "    </tr>\n",
       "    <tr>\n",
       "      <th>1</th>\n",
       "      <td>Dollar gains on Greenspan speech\\n\\nThe dollar...</td>\n",
       "      <td>business</td>\n",
       "      <td>Dollar gains on &lt;PERSON:&lt;PERSON:Greenspan&gt;&gt; sp...</td>\n",
       "    </tr>\n",
       "    <tr>\n",
       "      <th>2</th>\n",
       "      <td>Yukos unit buyer faces loan claim\\n\\nThe owner...</td>\n",
       "      <td>business</td>\n",
       "      <td>&lt;ORG:&lt;PERSON:&lt;PERSON:&lt;PERSON:&lt;PERSON:&lt;PERSON:Y...</td>\n",
       "    </tr>\n",
       "    <tr>\n",
       "      <th>3</th>\n",
       "      <td>High fuel prices hit BA's profits\\n\\nBritish A...</td>\n",
       "      <td>business</td>\n",
       "      <td>High fuel prices hit &lt;ORG:&lt;ORG:&lt;ORG:&lt;ORG:&lt;ORG:...</td>\n",
       "    </tr>\n",
       "    <tr>\n",
       "      <th>4</th>\n",
       "      <td>Pernod takeover talk lifts Domecq\\n\\nShares in...</td>\n",
       "      <td>business</td>\n",
       "      <td>&lt;PERSON:&lt;ORG:&lt;PERSON:&lt;PERSON:&lt;PERSON:&lt;PERSON:&lt;...</td>\n",
       "    </tr>\n",
       "  </tbody>\n",
       "</table>\n",
       "</div>"
      ],
      "text/plain": [
       "                                                text  category  \\\n",
       "0  Ad sales boost Time Warner profit\\n\\nQuarterly...  business   \n",
       "1  Dollar gains on Greenspan speech\\n\\nThe dollar...  business   \n",
       "2  Yukos unit buyer faces loan claim\\n\\nThe owner...  business   \n",
       "3  High fuel prices hit BA's profits\\n\\nBritish A...  business   \n",
       "4  Pernod takeover talk lifts Domecq\\n\\nShares in...  business   \n",
       "\n",
       "                                      text_preserved  \n",
       "0  Ad sales boost <ORG:Time_Warner> profit\\n\\n<DA...  \n",
       "1  Dollar gains on <PERSON:<PERSON:Greenspan>> sp...  \n",
       "2  <ORG:<PERSON:<PERSON:<PERSON:<PERSON:<PERSON:Y...  \n",
       "3  High fuel prices hit <ORG:<ORG:<ORG:<ORG:<ORG:...  \n",
       "4  <PERSON:<ORG:<PERSON:<PERSON:<PERSON:<PERSON:<...  "
      ]
     },
     "execution_count": 15,
     "metadata": {},
     "output_type": "execute_result"
    }
   ],
   "source": [
    "news_df.head()"
   ]
  },
  {
   "cell_type": "markdown",
   "id": "d7bed66d",
   "metadata": {},
   "source": [
    "Regex"
   ]
  },
  {
   "cell_type": "code",
   "execution_count": null,
   "id": "c98daf02",
   "metadata": {},
   "outputs": [],
   "source": [
    "def clean_text(text):\n",
    "    \n",
    "    text = re.sub(r'<.*?>', ' ', text)\n",
    "\n",
    "    \n",
    "    text = re.sub(r'http\\S+|www\\S+|https\\S+', ' ', text)\n",
    "\n",
    "    \n",
    "    text = re.sub(r'\\S+@\\S+', ' ', text)\n",
    "\n",
    "    \n",
    "    text = re.sub(r'\\d+', ' ', text)\n",
    "\n",
    "    \n",
    "    text = re.sub(r'[^a-zA-Z\\s<>_:]', ' ', text)  # <ENTITY_TAG>\n",
    "\n",
    "    \n",
    "    text = text.lower()\n",
    "\n",
    "    \n",
    "    text = re.sub(r'\\s+', ' ', text).strip()\n",
    "\n",
    "    return text\n"
   ]
  },
  {
   "cell_type": "code",
   "execution_count": 18,
   "id": "0dfdc40b",
   "metadata": {},
   "outputs": [],
   "source": [
    "news_df['text_cleaned'] = news_df['text_preserved'].apply(clean_text)"
   ]
  },
  {
   "cell_type": "code",
   "execution_count": 19,
   "id": "26ddad43",
   "metadata": {},
   "outputs": [
    {
     "name": "stdout",
     "output_type": "stream",
     "text": [
      "                                                                                                                                                                                                                                                                                                                                                                                                                                                                                                                                                                                                                                                                                                                                                                                                                                                                                                                                                                                                                                                                                                                                                                                                                                                                                                                                                                                                                                                                                                                                                                                                                                                                                                text                                                                                                                                                                                                                                                                                                                                                                                                                                                                                                                                                                                                                                                                                                                                                                                                                                                                                                                                                                                                                                                                                                                                                                                                                                                                                                                                                                                                                                                                                                                                                                                                                                                                                                                                                                                                                                                                                                                                             text_preserved                                                                                                                                                                                                                                                                                                                                                                                                                                                                                                                                                                                                                                                                                                                                                                                                                                                                                                                                                                                                                                                                                                                                                                                                                                                                                                                                                                                                                                                                                         text_cleaned\n",
      "204  Orange colour clash set for court\\n\\nA row over the colour orange could hit the courts after mobile phone giant Orange launched action against a new mobile venture from Easyjet's founder.\\n\\nOrange said it was starting proceedings against the Easymobile service for trademark infringement. Easymobile uses Easygroup's orange branding. Founder Stelios Haji-Ioannou has pledged to contest the action. The move comes after the two sides failed to come to an agreement after six months of talks. Orange claims the new low-cost mobile service has infringed its rights regarding the use of the colour orange and could confuse customers - known as \"passing off\".\\n\\n\"Our brand, and the rights associated with it are extremely important to us,\" Orange said in a statement. \"In the absence of any firm commitment from Easy, we have been left with no choice but to start an action for trademark infringement and passing off.\" However, Mr Haji-Ioannou, who plans to launch Easymobile next month, vowed to fight back, saying: \"We have nothing to be afraid of in this court case. \"It is our right to use our own corporate colour for which we have become famous during the last 10 years.\" The Easyjet founder also said he planned to add a disclaimer to the Easygroup website to ensure customers are aware the Easymobile brand has no connection to Orange. The new service is the latest venture from Easygroup, which includes a chain of internet cafes, budget car rentals and an intercity bus service. Easymobile will allow customers to go online to order SIM cards and airtime - which will be rented from T-Mobile - for their existing handsets.\\n  <ORG:<GPE:Orange>> colour clash set for court\\n\\nA row over the colour orange could hit the courts after mobile phone giant <ORG:<GPE:Orange>> launched action against a new mobile venture from <PRODUCT:<GPE:Easy>jet>'s founder.\\n\\n<ORG:<GPE:Orange>> said it was starting proceedings against the <GPE:Easy>mobile service for trademark infringement. <GPE:Easy>mobile uses <ORG:<GPE:Easy>group>'s orange branding. Founder Stelios <PERSON:<PERSON:Haji-Ioannou>> has pledged to contest the action. The move comes after the <CARDINAL:two> sides failed to come to an agreement after <DATE:six_months> of talks. <ORG:<GPE:Orange>> claims the new low-cost mobile service has infringed its rights regarding the use of the colour orange and could confuse customers - known as \"passing off\".\\n\\n\"Our brand, and the rights associated with it are extremely important to us,\" <ORG:<GPE:Orange>> said in a statement. \"In the absence of any firm commitment from <GPE:Easy>, we have been left with no choice but to start an action for trademark infringement and passing off.\" However, Mr <PERSON:<PERSON:Haji-Ioannou>>, who plans to launch <GPE:Easy>mobile <DATE:next_month>, vowed to fight back, saying: \"We have nothing to be afraid of in this court case. \"It is our right to use our own corporate colour for which we have become famous during <DATE:the_last_10_years>.\" The <PRODUCT:<GPE:Easy>jet> founder also said he planned to add a disclaimer to the <ORG:<GPE:Easy>group> website to ensure customers are aware the <GPE:Easy>mobile brand has no connection to <ORG:<GPE:Orange>>. The new service is the latest venture from <ORG:<GPE:Easy>group>, which includes a chain of internet cafes, budget car rentals and an intercity bus service. <GPE:Easy>mobile will allow customers to go online to order <ORG:SIM> cards and airtime - which will be rented from T-Mobile - for their existing handsets.\\n  > colour clash set for court a row over the colour orange could hit the courts after mobile phone giant > launched action against a new mobile venture from jet> s founder > said it was starting proceedings against the mobile service for trademark infringement mobile uses group> s orange branding founder stelios > has pledged to contest the action the move comes after the sides failed to come to an agreement after of talks > claims the new low cost mobile service has infringed its rights regarding the use of the colour orange and could confuse customers known as passing off our brand and the rights associated with it are extremely important to us > said in a statement in the absence of any firm commitment from we have been left with no choice but to start an action for trademark infringement and passing off however mr > who plans to launch mobile vowed to fight back saying: we have nothing to be afraid of in this court case it is our right to use our own corporate colour for which we have become famous during the jet> founder also said he planned to add a disclaimer to the group> website to ensure customers are aware the mobile brand has no connection to > the new service is the latest venture from group> which includes a chain of internet cafes budget car rentals and an intercity bus service mobile will allow customers to go online to order cards and airtime which will be rented from t mobile for their existing handsets\n"
     ]
    }
   ],
   "source": [
    "print(news_df[['text', 'text_preserved', 'text_cleaned']].sample(1).to_string())"
   ]
  },
  {
   "cell_type": "code",
   "execution_count": 20,
   "id": "e4b934df",
   "metadata": {},
   "outputs": [
    {
     "data": {
      "text/html": [
       "<div>\n",
       "<style scoped>\n",
       "    .dataframe tbody tr th:only-of-type {\n",
       "        vertical-align: middle;\n",
       "    }\n",
       "\n",
       "    .dataframe tbody tr th {\n",
       "        vertical-align: top;\n",
       "    }\n",
       "\n",
       "    .dataframe thead th {\n",
       "        text-align: right;\n",
       "    }\n",
       "</style>\n",
       "<table border=\"1\" class=\"dataframe\">\n",
       "  <thead>\n",
       "    <tr style=\"text-align: right;\">\n",
       "      <th></th>\n",
       "      <th>text</th>\n",
       "      <th>category</th>\n",
       "      <th>text_preserved</th>\n",
       "      <th>text_cleaned</th>\n",
       "    </tr>\n",
       "  </thead>\n",
       "  <tbody>\n",
       "    <tr>\n",
       "      <th>0</th>\n",
       "      <td>Ad sales boost Time Warner profit\\n\\nQuarterly...</td>\n",
       "      <td>business</td>\n",
       "      <td>Ad sales boost &lt;ORG:Time_Warner&gt; profit\\n\\n&lt;DA...</td>\n",
       "      <td>ad sales boost profit profits at &gt; media giant...</td>\n",
       "    </tr>\n",
       "    <tr>\n",
       "      <th>1</th>\n",
       "      <td>Dollar gains on Greenspan speech\\n\\nThe dollar...</td>\n",
       "      <td>business</td>\n",
       "      <td>Dollar gains on &lt;PERSON:&lt;PERSON:Greenspan&gt;&gt; sp...</td>\n",
       "      <td>dollar gains on &gt; speech the dollar has hit it...</td>\n",
       "    </tr>\n",
       "    <tr>\n",
       "      <th>2</th>\n",
       "      <td>Yukos unit buyer faces loan claim\\n\\nThe owner...</td>\n",
       "      <td>business</td>\n",
       "      <td>&lt;ORG:&lt;PERSON:&lt;PERSON:&lt;PERSON:&lt;PERSON:&lt;PERSON:Y...</td>\n",
       "      <td>&gt;&gt;&gt;&gt;&gt; unit buyer faces loan claim the owners o...</td>\n",
       "    </tr>\n",
       "    <tr>\n",
       "      <th>3</th>\n",
       "      <td>High fuel prices hit BA's profits\\n\\nBritish A...</td>\n",
       "      <td>business</td>\n",
       "      <td>High fuel prices hit &lt;ORG:&lt;ORG:&lt;ORG:&lt;ORG:&lt;ORG:...</td>\n",
       "      <td>high fuel prices hit &gt;&gt;&gt;&gt;&gt;&gt;&gt;&gt;&gt;&gt; s profits has ...</td>\n",
       "    </tr>\n",
       "    <tr>\n",
       "      <th>4</th>\n",
       "      <td>Pernod takeover talk lifts Domecq\\n\\nShares in...</td>\n",
       "      <td>business</td>\n",
       "      <td>&lt;PERSON:&lt;ORG:&lt;PERSON:&lt;PERSON:&lt;PERSON:&lt;PERSON:&lt;...</td>\n",
       "      <td>&gt;&gt;&gt;&gt;&gt;&gt;&gt; takeover talk lifts domecq shares in d...</td>\n",
       "    </tr>\n",
       "  </tbody>\n",
       "</table>\n",
       "</div>"
      ],
      "text/plain": [
       "                                                text  category  \\\n",
       "0  Ad sales boost Time Warner profit\\n\\nQuarterly...  business   \n",
       "1  Dollar gains on Greenspan speech\\n\\nThe dollar...  business   \n",
       "2  Yukos unit buyer faces loan claim\\n\\nThe owner...  business   \n",
       "3  High fuel prices hit BA's profits\\n\\nBritish A...  business   \n",
       "4  Pernod takeover talk lifts Domecq\\n\\nShares in...  business   \n",
       "\n",
       "                                      text_preserved  \\\n",
       "0  Ad sales boost <ORG:Time_Warner> profit\\n\\n<DA...   \n",
       "1  Dollar gains on <PERSON:<PERSON:Greenspan>> sp...   \n",
       "2  <ORG:<PERSON:<PERSON:<PERSON:<PERSON:<PERSON:Y...   \n",
       "3  High fuel prices hit <ORG:<ORG:<ORG:<ORG:<ORG:...   \n",
       "4  <PERSON:<ORG:<PERSON:<PERSON:<PERSON:<PERSON:<...   \n",
       "\n",
       "                                        text_cleaned  \n",
       "0  ad sales boost profit profits at > media giant...  \n",
       "1  dollar gains on > speech the dollar has hit it...  \n",
       "2  >>>>> unit buyer faces loan claim the owners o...  \n",
       "3  high fuel prices hit >>>>>>>>>> s profits has ...  \n",
       "4  >>>>>>> takeover talk lifts domecq shares in d...  "
      ]
     },
     "execution_count": 20,
     "metadata": {},
     "output_type": "execute_result"
    }
   ],
   "source": [
    "news_df.head()"
   ]
  },
  {
   "cell_type": "markdown",
   "id": "d85d113c",
   "metadata": {},
   "source": [
    "Normalizing"
   ]
  },
  {
   "cell_type": "code",
   "execution_count": 21,
   "id": "14c4c4e5",
   "metadata": {},
   "outputs": [],
   "source": [
    "def normalize_text(text):\n",
    "    text = text.lower()\n",
    "    text = re.sub(r'[^a-zA-Z0-9\\s]', '', text)  \n",
    "    return text\n"
   ]
  },
  {
   "cell_type": "markdown",
   "id": "16279828",
   "metadata": {},
   "source": [
    "Lemmatization"
   ]
  },
  {
   "cell_type": "code",
   "execution_count": 22,
   "id": "abcc10d6",
   "metadata": {},
   "outputs": [],
   "source": [
    "def lemmatize_text(text):\n",
    "    doc = nlp(text)\n",
    "    return ' '.join([token.lemma_ for token in doc if not token.is_stop])\n"
   ]
  },
  {
   "cell_type": "markdown",
   "id": "9aba4eec",
   "metadata": {},
   "source": [
    "Text Process"
   ]
  },
  {
   "cell_type": "code",
   "execution_count": 23,
   "id": "c6138a19",
   "metadata": {},
   "outputs": [],
   "source": [
    "news_df['clean_text'] = news_df['text'].apply(preserve_entities)\n",
    "news_df['clean_text'] = news_df['clean_text'].apply(normalize_text)\n",
    "news_df['clean_text'] = news_df['clean_text'].apply(lemmatize_text)\n",
    "\n"
   ]
  },
  {
   "cell_type": "markdown",
   "id": "d26d6901",
   "metadata": {},
   "source": [
    "Type Correction"
   ]
  },
  {
   "cell_type": "code",
   "execution_count": 27,
   "id": "98cf85fe",
   "metadata": {},
   "outputs": [],
   "source": [
    "def correct_typos(text, vocab, threshold=90):\n",
    "    corrected_words = []\n",
    "    for word in text.split():\n",
    "        if word in vocab or word.startswith(\"<\") or word.endswith(\">\"):\n",
    "            corrected_words.append(word)\n",
    "        else:\n",
    "            match, score, _ = process.extractOne(word, vocab)\n",
    "            if score >= threshold:\n",
    "                corrected_words.append(match)\n",
    "            else:\n",
    "                corrected_words.append(word)\n",
    "    return ' '.join(corrected_words)\n"
   ]
  },
  {
   "cell_type": "markdown",
   "id": "81f0454c",
   "metadata": {},
   "source": [
    "Count Vectorizer"
   ]
  },
  {
   "cell_type": "code",
   "execution_count": 25,
   "id": "50c7a3a8",
   "metadata": {},
   "outputs": [],
   "source": [
    "vectorizer_vocab = CountVectorizer(min_df=5)\n",
    "vectorizer_vocab.fit(news_df['clean_text'])\n",
    "vocab = set(vectorizer_vocab.get_feature_names_out())\n"
   ]
  },
  {
   "cell_type": "code",
   "execution_count": 28,
   "id": "2cb24abd",
   "metadata": {},
   "outputs": [],
   "source": [
    "news_df['clean_text'] = news_df['clean_text'].apply(lambda text: correct_typos(text, vocab))"
   ]
  },
  {
   "cell_type": "markdown",
   "id": "fa062b64",
   "metadata": {},
   "source": [
    "TF-IDF"
   ]
  },
  {
   "cell_type": "code",
   "execution_count": 29,
   "id": "3c17958a",
   "metadata": {},
   "outputs": [],
   "source": [
    "vectorizer = TfidfVectorizer(\n",
    "    ngram_range=(1, 3),\n",
    "    max_df=0.80,\n",
    "    min_df=3,\n",
    "    max_features=8000,\n",
    "    sublinear_tf=True,\n",
    "    stop_words='english'\n",
    ")\n",
    "X_tfidf = vectorizer.fit_transform(news_df['clean_text'])\n",
    "\n",
    "\n",
    "y = news_df['category']"
   ]
  },
  {
   "cell_type": "code",
   "execution_count": 30,
   "id": "1bd1fc16",
   "metadata": {},
   "outputs": [
    {
     "name": "stdout",
     "output_type": "stream",
     "text": [
      "TF-IDF shape: (2225, 8000)\n",
      "Sample feature names: ['10' '10 gamble' '100' '100 gamble' '10000' '100000' '10bn' '11'\n",
      " '11 gamble' '11bn']\n"
     ]
    }
   ],
   "source": [
    "print(\"TF-IDF shape:\", X_tfidf.shape)\n",
    "print(\"Sample feature names:\", vectorizer.get_feature_names_out()[:10])\n"
   ]
  },
  {
   "cell_type": "markdown",
   "id": "215d610d",
   "metadata": {},
   "source": [
    "Splitting and Naive Bayes Algorithm"
   ]
  },
  {
   "cell_type": "code",
   "execution_count": 19,
   "id": "5f2f166e",
   "metadata": {},
   "outputs": [
    {
     "name": "stdout",
     "output_type": "stream",
     "text": [
      "Classification Report:\n",
      "                precision    recall  f1-score   support\n",
      "\n",
      "     business       0.93      0.96      0.94       115\n",
      "entertainment       0.99      0.92      0.95        72\n",
      "     politics       0.91      0.96      0.94        76\n",
      "        sport       0.99      0.99      0.99       102\n",
      "         tech       0.96      0.94      0.95        80\n",
      "\n",
      "     accuracy                           0.96       445\n",
      "    macro avg       0.96      0.95      0.95       445\n",
      " weighted avg       0.96      0.96      0.96       445\n",
      "\n"
     ]
    }
   ],
   "source": [
    "X_train, X_test, y_train, y_test = train_test_split(X_tfidf, y, test_size = 0.2, random_state = 42)\n",
    "\n",
    "nb_model = MultinomialNB()\n",
    "nb_model.fit(X_train, y_train)\n",
    "\n",
    "y_pred = nb_model.predict(X_test)\n",
    "\n",
    "print(\"Classification Report:\\n\", classification_report(y_test, y_pred))"
   ]
  },
  {
   "cell_type": "markdown",
   "id": "29c4a20f",
   "metadata": {},
   "source": [
    "Confusion Matrix"
   ]
  },
  {
   "cell_type": "code",
   "execution_count": 20,
   "id": "399b1046",
   "metadata": {},
   "outputs": [
    {
     "data": {
      "image/png": "[encoded data removed]",
      "text/plain": [
       "<Figure size 800x600 with 2 Axes>"
      ]
     },
     "metadata": {},
     "output_type": "display_data"
    }
   ],
   "source": [
    "labels = sorted(news_df['category'].unique())\n",
    "cm = confusion_matrix(y_test, y_pred, labels=labels)\n",
    "\n",
    "plt.figure(figsize=(8,6))\n",
    "sns.heatmap(cm, annot=True, fmt='d', cmap='Blues', xticklabels=labels, yticklabels=labels)\n",
    "plt.xlabel('Predicted')\n",
    "plt.ylabel('Actual')\n",
    "plt.title('Confusion Matrix - Naive Bayes')\n",
    "plt.show()"
   ]
  },
  {
   "cell_type": "markdown",
   "id": "4a9ece5c",
   "metadata": {},
   "source": [
    "Top Features for Each Category"
   ]
  },
  {
   "cell_type": "code",
   "execution_count": 21,
   "id": "159bde0a",
   "metadata": {},
   "outputs": [
    {
     "name": "stdout",
     "output_type": "stream",
     "text": [
      "\n",
      "Top features for 'business':\n",
      "analyst, price, sale, economy, share, rise, growth, firm, market, company\n",
      "\n",
      "Top features for 'entertainment':\n",
      "work, singer, album, music, good, include, actor, award, star, film\n",
      "\n",
      "Top features for 'politics':\n",
      "secretary, leader, mr person, people, plan, party, minister, government, election, mr\n",
      "\n",
      "Top features for 'sport':\n",
      "disable, person person, coach, command, team, match, player, play, game, win\n",
      "\n",
      "Top features for 'tech':\n",
      "digital, mobile, service, net, software, use, computer, user, technology, people\n"
     ]
    }
   ],
   "source": [
    "def show_top_features_nb(classifier, vectorizer, class_labels, n=10):\n",
    "    feature_names = vectorizer.get_feature_names_out()\n",
    "    for i, class_label in enumerate(class_labels):\n",
    "        top_indices = np.argsort(classifier.feature_log_prob_[i])[-n:]\n",
    "        top_features = [feature_names[j] for j in top_indices]\n",
    "        print(f\"\\nTop features for '{class_label}':\")\n",
    "        print(\", \".join(top_features))\n",
    "show_top_features_nb(nb_model, vectorizer, nb_model.classes_)\n"
   ]
  },
  {
   "cell_type": "code",
   "execution_count": 22,
   "id": "14768f70",
   "metadata": {},
   "outputs": [],
   "source": [
    "from sklearn.model_selection import GridSearchCV\n",
    "from sklearn.pipeline import Pipeline\n",
    "from sklearn.linear_model import LogisticRegression\n",
    "from sklearn.tree import DecisionTreeClassifier\n",
    "from sklearn.svm import LinearSVC\n",
    "from sklearn.neural_network import MLPClassifier\n",
    "from sklearn.ensemble import VotingClassifier, RandomForestClassifier\n",
    "from sklearn.model_selection import StratifiedKFold"
   ]
  },
  {
   "cell_type": "markdown",
   "id": "b31766b0",
   "metadata": {},
   "source": [
    "Cross Validation"
   ]
  },
  {
   "cell_type": "code",
   "execution_count": 23,
   "id": "c05002d1",
   "metadata": {},
   "outputs": [],
   "source": [
    "cv_strategy = StratifiedKFold(n_splits=5, shuffle=True, random_state=42)\n"
   ]
  },
  {
   "cell_type": "markdown",
   "id": "a080ab5c",
   "metadata": {},
   "source": [
    "Hyperparameter Tuning"
   ]
  },
  {
   "cell_type": "code",
   "execution_count": null,
   "id": "db815e5b",
   "metadata": {},
   "outputs": [],
   "source": [
    "models = {\n",
    "    \"LogisticRegression\": (LogisticRegression(max_iter=1000), [\n",
    "        {\n",
    "            'clf__C': [0.01, 0.1, 1, 10],\n",
    "            'clf__penalty': ['l1', 'l2'],\n",
    "            'clf__solver': ['liblinear']\n",
    "        },\n",
    "        {\n",
    "            'clf__C': [0.01, 0.1, 1, 10],\n",
    "            'clf__penalty': ['elasticnet'],\n",
    "            'clf__solver': ['saga'],\n",
    "            'clf__l1_ratio': [0.2, 0.5, 0.8]\n",
    "        }\n",
    "    ]),\n",
    "    \n",
    "    \"DecisionTree\": (DecisionTreeClassifier(random_state=42), {\n",
    "        \"clf__max_depth\": [5, 10, 15, 20],\n",
    "        \"clf__min_samples_split\": [5, 10, 20],\n",
    "        \"clf__min_samples_leaf\": [2, 5, 10],\n",
    "        \"clf__max_features\": ['sqrt', 'log2', None]\n",
    "    }),\n",
    "    \n",
    "    \"SVM\": (LinearSVC(max_iter=10000, random_state=42), {\n",
    "        \"clf__C\": [0.01, 0.1, 1, 10],\n",
    "        \"clf__penalty\": ['l1', 'l2'],\n",
    "        \"clf__dual\": [False]\n",
    "    }),\n",
    "    \n",
    "    \"MLP\": (MLPClassifier(max_iter=500, random_state=42), {\n",
    "        \"clf__hidden_layer_sizes\": [(50,), (100,), (100, 50)],\n",
    "        \"clf__alpha\": [0.001, 0.01, 0.1],\n",
    "        \"clf__validation_fraction\": [0.1]\n",
    "    })\n",
    "}\n"
   ]
  },
  {
   "cell_type": "markdown",
   "id": "8a484516",
   "metadata": {},
   "source": [
    "Voting Ensemble (Logistic Regression + Support Vector Machine + Random Forest)"
   ]
  },
  {
   "cell_type": "code",
   "execution_count": 27,
   "id": "c1c4f701",
   "metadata": {},
   "outputs": [],
   "source": [
    "log_reg = LogisticRegression(C=1, penalty='l2', max_iter=1000)\n",
    "svm = LinearSVC(C=0.1, max_iter=10000)\n",
    "rf = RandomForestClassifier(n_estimators=100, max_depth=15, \n",
    "                            min_samples_split=10, random_state=42)\n",
    "\n",
    "voting_ensemble = VotingClassifier(\n",
    "    estimators=[('lr', log_reg), ('svm', svm), ('rf', rf)],\n",
    "    voting='hard'\n",
    ")\n",
    "\n",
    "models[\"RandomForest\"] = (RandomForestClassifier(random_state=42), {\n",
    "    \"clf__n_estimators\": [50, 100],\n",
    "    \"clf__max_depth\": [10, 15, 20],\n",
    "    \"clf__min_samples_split\": [5, 10],\n",
    "    \"clf__min_samples_leaf\": [2, 5]\n",
    "})\n",
    "\n",
    "models[\"VotingEnsemble\"] = (voting_ensemble, {})\n"
   ]
  },
  {
   "cell_type": "markdown",
   "id": "b813b55c",
   "metadata": {},
   "source": [
    "Modeling with Hyperparameter Tuning"
   ]
  },
  {
   "cell_type": "code",
   "execution_count": 28,
   "id": "d2aeb23d",
   "metadata": {},
   "outputs": [
    {
     "name": "stdout",
     "output_type": "stream",
     "text": [
      "\n",
      "Training and tuning LogisticRegression...\n",
      "Fitting 5 folds for each of 24 candidates, totalling 120 fits\n"
     ]
    },
    {
     "name": "stderr",
     "output_type": "stream",
     "text": [
      "c:\\Users\\Livan\\OneDrive\\Masaüstü\\Work\\NLP-Project\\nlpproject\\lib\\site-packages\\sklearn\\model_selection\\_validation.py:528: FitFailedWarning: \n",
      "40 fits failed out of a total of 120.\n",
      "The score on these train-test partitions for these parameters will be set to nan.\n",
      "If these failures are not expected, you can try to debug them by setting error_score='raise'.\n",
      "\n",
      "Below are more details about the failures:\n",
      "--------------------------------------------------------------------------------\n",
      "20 fits failed with the following error:\n",
      "Traceback (most recent call last):\n",
      "  File \"c:\\Users\\Livan\\OneDrive\\Masaüstü\\Work\\NLP-Project\\nlpproject\\lib\\site-packages\\sklearn\\model_selection\\_validation.py\", line 866, in _fit_and_score\n",
      "    estimator.fit(X_train, y_train, **fit_params)\n",
      "  File \"c:\\Users\\Livan\\OneDrive\\Masaüstü\\Work\\NLP-Project\\nlpproject\\lib\\site-packages\\sklearn\\base.py\", line 1389, in wrapper\n",
      "    return fit_method(estimator, *args, **kwargs)\n",
      "  File \"c:\\Users\\Livan\\OneDrive\\Masaüstü\\Work\\NLP-Project\\nlpproject\\lib\\site-packages\\sklearn\\pipeline.py\", line 662, in fit\n",
      "    self._final_estimator.fit(Xt, y, **last_step_params[\"fit\"])\n",
      "  File \"c:\\Users\\Livan\\OneDrive\\Masaüstü\\Work\\NLP-Project\\nlpproject\\lib\\site-packages\\sklearn\\base.py\", line 1389, in wrapper\n",
      "    return fit_method(estimator, *args, **kwargs)\n",
      "  File \"c:\\Users\\Livan\\OneDrive\\Masaüstü\\Work\\NLP-Project\\nlpproject\\lib\\site-packages\\sklearn\\linear_model\\_logistic.py\", line 1193, in fit\n",
      "    solver = _check_solver(self.solver, self.penalty, self.dual)\n",
      "  File \"c:\\Users\\Livan\\OneDrive\\Masaüstü\\Work\\NLP-Project\\nlpproject\\lib\\site-packages\\sklearn\\linear_model\\_logistic.py\", line 71, in _check_solver\n",
      "    raise ValueError(\n",
      "ValueError: Only 'saga' solver supports elasticnet penalty, got solver=liblinear.\n",
      "\n",
      "--------------------------------------------------------------------------------\n",
      "20 fits failed with the following error:\n",
      "Traceback (most recent call last):\n",
      "  File \"c:\\Users\\Livan\\OneDrive\\Masaüstü\\Work\\NLP-Project\\nlpproject\\lib\\site-packages\\sklearn\\model_selection\\_validation.py\", line 866, in _fit_and_score\n",
      "    estimator.fit(X_train, y_train, **fit_params)\n",
      "  File \"c:\\Users\\Livan\\OneDrive\\Masaüstü\\Work\\NLP-Project\\nlpproject\\lib\\site-packages\\sklearn\\base.py\", line 1389, in wrapper\n",
      "    return fit_method(estimator, *args, **kwargs)\n",
      "  File \"c:\\Users\\Livan\\OneDrive\\Masaüstü\\Work\\NLP-Project\\nlpproject\\lib\\site-packages\\sklearn\\pipeline.py\", line 662, in fit\n",
      "    self._final_estimator.fit(Xt, y, **last_step_params[\"fit\"])\n",
      "  File \"c:\\Users\\Livan\\OneDrive\\Masaüstü\\Work\\NLP-Project\\nlpproject\\lib\\site-packages\\sklearn\\base.py\", line 1389, in wrapper\n",
      "    return fit_method(estimator, *args, **kwargs)\n",
      "  File \"c:\\Users\\Livan\\OneDrive\\Masaüstü\\Work\\NLP-Project\\nlpproject\\lib\\site-packages\\sklearn\\linear_model\\_logistic.py\", line 1203, in fit\n",
      "    raise ValueError(\"l1_ratio must be specified when penalty is elasticnet.\")\n",
      "ValueError: l1_ratio must be specified when penalty is elasticnet.\n",
      "\n",
      "  warnings.warn(some_fits_failed_message, FitFailedWarning)\n",
      "c:\\Users\\Livan\\OneDrive\\Masaüstü\\Work\\NLP-Project\\nlpproject\\lib\\site-packages\\sklearn\\model_selection\\_search.py:1108: UserWarning: One or more of the test scores are non-finite: [0.07473705 0.07014345 0.28232559 0.26392427        nan        nan\n",
      " 0.1898195  0.1961548  0.92516249 0.9344274         nan        nan\n",
      " 0.92213822 0.91049849 0.97396897 0.97572067        nan        nan\n",
      " 0.96342585 0.95142691 0.97745373 0.97745373        nan        nan]\n",
      "  warnings.warn(\n"
     ]
    },
    {
     "name": "stdout",
     "output_type": "stream",
     "text": [
      "LogisticRegression\n",
      "  - CV Score: 0.9775 (+/- 0.0114)\n",
      "  - Training Accuracy: 1.0000\n",
      "  - Testing Accuracy : 0.9708\n",
      "  - Gap: 0.0292\n",
      "  - Best Params: {'clf__C': 10, 'clf__penalty': 'l2', 'clf__solver': 'liblinear'}\n",
      "\n",
      "Training and tuning DecisionTree...\n",
      "Fitting 5 folds for each of 108 candidates, totalling 540 fits\n",
      "DecisionTree\n",
      "  - CV Score: 0.8015 (+/- 0.0269)\n",
      "  - Training Accuracy: 0.9348\n",
      "  - Testing Accuracy : 0.8270\n",
      "  - Gap: 0.1079\n",
      "  - Best Params: {'clf__max_depth': 20, 'clf__max_features': None, 'clf__min_samples_leaf': 2, 'clf__min_samples_split': 20}\n",
      "\n",
      "Training and tuning SVM...\n",
      "Fitting 5 folds for each of 8 candidates, totalling 40 fits\n",
      "SVM\n",
      "  - CV Score: 0.9812 (+/- 0.0125)\n",
      "  - Training Accuracy: 1.0000\n",
      "  - Testing Accuracy : 0.9730\n",
      "  - Gap: 0.0270\n",
      "  - Best Params: {'clf__C': 10, 'clf__dual': False, 'clf__penalty': 'l2'}\n",
      "\n",
      "Training and tuning MLP...\n",
      "Fitting 5 folds for each of 9 candidates, totalling 45 fits\n"
     ]
    },
    {
     "ename": "KeyboardInterrupt",
     "evalue": "",
     "output_type": "error",
     "traceback": [
      "\u001b[1;31m---------------------------------------------------------------------------\u001b[0m",
      "\u001b[1;31mKeyboardInterrupt\u001b[0m                         Traceback (most recent call last)",
      "Cell \u001b[1;32mIn[28], line 18\u001b[0m\n\u001b[0;32m      7\u001b[0m pipeline \u001b[38;5;241m=\u001b[39m Pipeline([(\u001b[38;5;124m'\u001b[39m\u001b[38;5;124mclf\u001b[39m\u001b[38;5;124m'\u001b[39m, model)])\n\u001b[0;32m      9\u001b[0m grid \u001b[38;5;241m=\u001b[39m GridSearchCV(\n\u001b[0;32m     10\u001b[0m     pipeline, \n\u001b[0;32m     11\u001b[0m     param_grid, \n\u001b[1;32m   (...)\u001b[0m\n\u001b[0;32m     15\u001b[0m     verbose\u001b[38;5;241m=\u001b[39m\u001b[38;5;241m1\u001b[39m\n\u001b[0;32m     16\u001b[0m )\n\u001b[1;32m---> 18\u001b[0m \u001b[43mgrid\u001b[49m\u001b[38;5;241;43m.\u001b[39;49m\u001b[43mfit\u001b[49m\u001b[43m(\u001b[49m\u001b[43mX_train\u001b[49m\u001b[43m,\u001b[49m\u001b[43m \u001b[49m\u001b[43my_train\u001b[49m\u001b[43m)\u001b[49m\n\u001b[0;32m     19\u001b[0m best_model \u001b[38;5;241m=\u001b[39m grid\u001b[38;5;241m.\u001b[39mbest_estimator_\n\u001b[0;32m     21\u001b[0m cv_scores \u001b[38;5;241m=\u001b[39m cross_val_score(best_model, X_train, y_train, \n\u001b[0;32m     22\u001b[0m                             cv\u001b[38;5;241m=\u001b[39mcv_strategy, scoring\u001b[38;5;241m=\u001b[39m\u001b[38;5;124m'\u001b[39m\u001b[38;5;124mf1_macro\u001b[39m\u001b[38;5;124m'\u001b[39m)\n",
      "File \u001b[1;32mc:\\Users\\Livan\\OneDrive\\Masaüstü\\Work\\NLP-Project\\nlpproject\\lib\\site-packages\\sklearn\\base.py:1389\u001b[0m, in \u001b[0;36m_fit_context.<locals>.decorator.<locals>.wrapper\u001b[1;34m(estimator, *args, **kwargs)\u001b[0m\n\u001b[0;32m   1382\u001b[0m     estimator\u001b[38;5;241m.\u001b[39m_validate_params()\n\u001b[0;32m   1384\u001b[0m \u001b[38;5;28;01mwith\u001b[39;00m config_context(\n\u001b[0;32m   1385\u001b[0m     skip_parameter_validation\u001b[38;5;241m=\u001b[39m(\n\u001b[0;32m   1386\u001b[0m         prefer_skip_nested_validation \u001b[38;5;129;01mor\u001b[39;00m global_skip_validation\n\u001b[0;32m   1387\u001b[0m     )\n\u001b[0;32m   1388\u001b[0m ):\n\u001b[1;32m-> 1389\u001b[0m     \u001b[38;5;28;01mreturn\u001b[39;00m fit_method(estimator, \u001b[38;5;241m*\u001b[39margs, \u001b[38;5;241m*\u001b[39m\u001b[38;5;241m*\u001b[39mkwargs)\n",
      "File \u001b[1;32mc:\\Users\\Livan\\OneDrive\\Masaüstü\\Work\\NLP-Project\\nlpproject\\lib\\site-packages\\sklearn\\model_selection\\_search.py:1024\u001b[0m, in \u001b[0;36mBaseSearchCV.fit\u001b[1;34m(self, X, y, **params)\u001b[0m\n\u001b[0;32m   1018\u001b[0m     results \u001b[38;5;241m=\u001b[39m \u001b[38;5;28mself\u001b[39m\u001b[38;5;241m.\u001b[39m_format_results(\n\u001b[0;32m   1019\u001b[0m         all_candidate_params, n_splits, all_out, all_more_results\n\u001b[0;32m   1020\u001b[0m     )\n\u001b[0;32m   1022\u001b[0m     \u001b[38;5;28;01mreturn\u001b[39;00m results\n\u001b[1;32m-> 1024\u001b[0m \u001b[38;5;28;43mself\u001b[39;49m\u001b[38;5;241;43m.\u001b[39;49m\u001b[43m_run_search\u001b[49m\u001b[43m(\u001b[49m\u001b[43mevaluate_candidates\u001b[49m\u001b[43m)\u001b[49m\n\u001b[0;32m   1026\u001b[0m \u001b[38;5;66;03m# multimetric is determined here because in the case of a callable\u001b[39;00m\n\u001b[0;32m   1027\u001b[0m \u001b[38;5;66;03m# self.scoring the return type is only known after calling\u001b[39;00m\n\u001b[0;32m   1028\u001b[0m first_test_score \u001b[38;5;241m=\u001b[39m all_out[\u001b[38;5;241m0\u001b[39m][\u001b[38;5;124m\"\u001b[39m\u001b[38;5;124mtest_scores\u001b[39m\u001b[38;5;124m\"\u001b[39m]\n",
      "File \u001b[1;32mc:\\Users\\Livan\\OneDrive\\Masaüstü\\Work\\NLP-Project\\nlpproject\\lib\\site-packages\\sklearn\\model_selection\\_search.py:1571\u001b[0m, in \u001b[0;36mGridSearchCV._run_search\u001b[1;34m(self, evaluate_candidates)\u001b[0m\n\u001b[0;32m   1569\u001b[0m \u001b[38;5;28;01mdef\u001b[39;00m\u001b[38;5;250m \u001b[39m\u001b[38;5;21m_run_search\u001b[39m(\u001b[38;5;28mself\u001b[39m, evaluate_candidates):\n\u001b[0;32m   1570\u001b[0m \u001b[38;5;250m    \u001b[39m\u001b[38;5;124;03m\"\"\"Search all candidates in param_grid\"\"\"\u001b[39;00m\n\u001b[1;32m-> 1571\u001b[0m     \u001b[43mevaluate_candidates\u001b[49m\u001b[43m(\u001b[49m\u001b[43mParameterGrid\u001b[49m\u001b[43m(\u001b[49m\u001b[38;5;28;43mself\u001b[39;49m\u001b[38;5;241;43m.\u001b[39;49m\u001b[43mparam_grid\u001b[49m\u001b[43m)\u001b[49m\u001b[43m)\u001b[49m\n",
      "File \u001b[1;32mc:\\Users\\Livan\\OneDrive\\Masaüstü\\Work\\NLP-Project\\nlpproject\\lib\\site-packages\\sklearn\\model_selection\\_search.py:970\u001b[0m, in \u001b[0;36mBaseSearchCV.fit.<locals>.evaluate_candidates\u001b[1;34m(candidate_params, cv, more_results)\u001b[0m\n\u001b[0;32m    962\u001b[0m \u001b[38;5;28;01mif\u001b[39;00m \u001b[38;5;28mself\u001b[39m\u001b[38;5;241m.\u001b[39mverbose \u001b[38;5;241m>\u001b[39m \u001b[38;5;241m0\u001b[39m:\n\u001b[0;32m    963\u001b[0m     \u001b[38;5;28mprint\u001b[39m(\n\u001b[0;32m    964\u001b[0m         \u001b[38;5;124m\"\u001b[39m\u001b[38;5;124mFitting \u001b[39m\u001b[38;5;132;01m{0}\u001b[39;00m\u001b[38;5;124m folds for each of \u001b[39m\u001b[38;5;132;01m{1}\u001b[39;00m\u001b[38;5;124m candidates,\u001b[39m\u001b[38;5;124m\"\u001b[39m\n\u001b[0;32m    965\u001b[0m         \u001b[38;5;124m\"\u001b[39m\u001b[38;5;124m totalling \u001b[39m\u001b[38;5;132;01m{2}\u001b[39;00m\u001b[38;5;124m fits\u001b[39m\u001b[38;5;124m\"\u001b[39m\u001b[38;5;241m.\u001b[39mformat(\n\u001b[0;32m    966\u001b[0m             n_splits, n_candidates, n_candidates \u001b[38;5;241m*\u001b[39m n_splits\n\u001b[0;32m    967\u001b[0m         )\n\u001b[0;32m    968\u001b[0m     )\n\u001b[1;32m--> 970\u001b[0m out \u001b[38;5;241m=\u001b[39m \u001b[43mparallel\u001b[49m\u001b[43m(\u001b[49m\n\u001b[0;32m    971\u001b[0m \u001b[43m    \u001b[49m\u001b[43mdelayed\u001b[49m\u001b[43m(\u001b[49m\u001b[43m_fit_and_score\u001b[49m\u001b[43m)\u001b[49m\u001b[43m(\u001b[49m\n\u001b[0;32m    972\u001b[0m \u001b[43m        \u001b[49m\u001b[43mclone\u001b[49m\u001b[43m(\u001b[49m\u001b[43mbase_estimator\u001b[49m\u001b[43m)\u001b[49m\u001b[43m,\u001b[49m\n\u001b[0;32m    973\u001b[0m \u001b[43m        \u001b[49m\u001b[43mX\u001b[49m\u001b[43m,\u001b[49m\n\u001b[0;32m    974\u001b[0m \u001b[43m        \u001b[49m\u001b[43my\u001b[49m\u001b[43m,\u001b[49m\n\u001b[0;32m    975\u001b[0m \u001b[43m        \u001b[49m\u001b[43mtrain\u001b[49m\u001b[38;5;241;43m=\u001b[39;49m\u001b[43mtrain\u001b[49m\u001b[43m,\u001b[49m\n\u001b[0;32m    976\u001b[0m \u001b[43m        \u001b[49m\u001b[43mtest\u001b[49m\u001b[38;5;241;43m=\u001b[39;49m\u001b[43mtest\u001b[49m\u001b[43m,\u001b[49m\n\u001b[0;32m    977\u001b[0m \u001b[43m        \u001b[49m\u001b[43mparameters\u001b[49m\u001b[38;5;241;43m=\u001b[39;49m\u001b[43mparameters\u001b[49m\u001b[43m,\u001b[49m\n\u001b[0;32m    978\u001b[0m \u001b[43m        \u001b[49m\u001b[43msplit_progress\u001b[49m\u001b[38;5;241;43m=\u001b[39;49m\u001b[43m(\u001b[49m\u001b[43msplit_idx\u001b[49m\u001b[43m,\u001b[49m\u001b[43m \u001b[49m\u001b[43mn_splits\u001b[49m\u001b[43m)\u001b[49m\u001b[43m,\u001b[49m\n\u001b[0;32m    979\u001b[0m \u001b[43m        \u001b[49m\u001b[43mcandidate_progress\u001b[49m\u001b[38;5;241;43m=\u001b[39;49m\u001b[43m(\u001b[49m\u001b[43mcand_idx\u001b[49m\u001b[43m,\u001b[49m\u001b[43m \u001b[49m\u001b[43mn_candidates\u001b[49m\u001b[43m)\u001b[49m\u001b[43m,\u001b[49m\n\u001b[0;32m    980\u001b[0m \u001b[43m        \u001b[49m\u001b[38;5;241;43m*\u001b[39;49m\u001b[38;5;241;43m*\u001b[39;49m\u001b[43mfit_and_score_kwargs\u001b[49m\u001b[43m,\u001b[49m\n\u001b[0;32m    981\u001b[0m \u001b[43m    \u001b[49m\u001b[43m)\u001b[49m\n\u001b[0;32m    982\u001b[0m \u001b[43m    \u001b[49m\u001b[38;5;28;43;01mfor\u001b[39;49;00m\u001b[43m \u001b[49m\u001b[43m(\u001b[49m\u001b[43mcand_idx\u001b[49m\u001b[43m,\u001b[49m\u001b[43m \u001b[49m\u001b[43mparameters\u001b[49m\u001b[43m)\u001b[49m\u001b[43m,\u001b[49m\u001b[43m \u001b[49m\u001b[43m(\u001b[49m\u001b[43msplit_idx\u001b[49m\u001b[43m,\u001b[49m\u001b[43m \u001b[49m\u001b[43m(\u001b[49m\u001b[43mtrain\u001b[49m\u001b[43m,\u001b[49m\u001b[43m \u001b[49m\u001b[43mtest\u001b[49m\u001b[43m)\u001b[49m\u001b[43m)\u001b[49m\u001b[43m \u001b[49m\u001b[38;5;129;43;01min\u001b[39;49;00m\u001b[43m \u001b[49m\u001b[43mproduct\u001b[49m\u001b[43m(\u001b[49m\n\u001b[0;32m    983\u001b[0m \u001b[43m        \u001b[49m\u001b[38;5;28;43menumerate\u001b[39;49m\u001b[43m(\u001b[49m\u001b[43mcandidate_params\u001b[49m\u001b[43m)\u001b[49m\u001b[43m,\u001b[49m\n\u001b[0;32m    984\u001b[0m \u001b[43m        \u001b[49m\u001b[38;5;28;43menumerate\u001b[39;49m\u001b[43m(\u001b[49m\u001b[43mcv\u001b[49m\u001b[38;5;241;43m.\u001b[39;49m\u001b[43msplit\u001b[49m\u001b[43m(\u001b[49m\u001b[43mX\u001b[49m\u001b[43m,\u001b[49m\u001b[43m \u001b[49m\u001b[43my\u001b[49m\u001b[43m,\u001b[49m\u001b[43m \u001b[49m\u001b[38;5;241;43m*\u001b[39;49m\u001b[38;5;241;43m*\u001b[39;49m\u001b[43mrouted_params\u001b[49m\u001b[38;5;241;43m.\u001b[39;49m\u001b[43msplitter\u001b[49m\u001b[38;5;241;43m.\u001b[39;49m\u001b[43msplit\u001b[49m\u001b[43m)\u001b[49m\u001b[43m)\u001b[49m\u001b[43m,\u001b[49m\n\u001b[0;32m    985\u001b[0m \u001b[43m    \u001b[49m\u001b[43m)\u001b[49m\n\u001b[0;32m    986\u001b[0m \u001b[43m\u001b[49m\u001b[43m)\u001b[49m\n\u001b[0;32m    988\u001b[0m \u001b[38;5;28;01mif\u001b[39;00m \u001b[38;5;28mlen\u001b[39m(out) \u001b[38;5;241m<\u001b[39m \u001b[38;5;241m1\u001b[39m:\n\u001b[0;32m    989\u001b[0m     \u001b[38;5;28;01mraise\u001b[39;00m \u001b[38;5;167;01mValueError\u001b[39;00m(\n\u001b[0;32m    990\u001b[0m         \u001b[38;5;124m\"\u001b[39m\u001b[38;5;124mNo fits were performed. \u001b[39m\u001b[38;5;124m\"\u001b[39m\n\u001b[0;32m    991\u001b[0m         \u001b[38;5;124m\"\u001b[39m\u001b[38;5;124mWas the CV iterator empty? \u001b[39m\u001b[38;5;124m\"\u001b[39m\n\u001b[0;32m    992\u001b[0m         \u001b[38;5;124m\"\u001b[39m\u001b[38;5;124mWere there no candidates?\u001b[39m\u001b[38;5;124m\"\u001b[39m\n\u001b[0;32m    993\u001b[0m     )\n",
      "File \u001b[1;32mc:\\Users\\Livan\\OneDrive\\Masaüstü\\Work\\NLP-Project\\nlpproject\\lib\\site-packages\\sklearn\\utils\\parallel.py:77\u001b[0m, in \u001b[0;36mParallel.__call__\u001b[1;34m(self, iterable)\u001b[0m\n\u001b[0;32m     72\u001b[0m config \u001b[38;5;241m=\u001b[39m get_config()\n\u001b[0;32m     73\u001b[0m iterable_with_config \u001b[38;5;241m=\u001b[39m (\n\u001b[0;32m     74\u001b[0m     (_with_config(delayed_func, config), args, kwargs)\n\u001b[0;32m     75\u001b[0m     \u001b[38;5;28;01mfor\u001b[39;00m delayed_func, args, kwargs \u001b[38;5;129;01min\u001b[39;00m iterable\n\u001b[0;32m     76\u001b[0m )\n\u001b[1;32m---> 77\u001b[0m \u001b[38;5;28;01mreturn\u001b[39;00m \u001b[38;5;28;43msuper\u001b[39;49m\u001b[43m(\u001b[49m\u001b[43m)\u001b[49m\u001b[38;5;241;43m.\u001b[39;49m\u001b[38;5;21;43m__call__\u001b[39;49m\u001b[43m(\u001b[49m\u001b[43miterable_with_config\u001b[49m\u001b[43m)\u001b[49m\n",
      "File \u001b[1;32mc:\\Users\\Livan\\OneDrive\\Masaüstü\\Work\\NLP-Project\\nlpproject\\lib\\site-packages\\joblib\\parallel.py:2007\u001b[0m, in \u001b[0;36mParallel.__call__\u001b[1;34m(self, iterable)\u001b[0m\n\u001b[0;32m   2001\u001b[0m \u001b[38;5;66;03m# The first item from the output is blank, but it makes the interpreter\u001b[39;00m\n\u001b[0;32m   2002\u001b[0m \u001b[38;5;66;03m# progress until it enters the Try/Except block of the generator and\u001b[39;00m\n\u001b[0;32m   2003\u001b[0m \u001b[38;5;66;03m# reaches the first `yield` statement. This starts the asynchronous\u001b[39;00m\n\u001b[0;32m   2004\u001b[0m \u001b[38;5;66;03m# dispatch of the tasks to the workers.\u001b[39;00m\n\u001b[0;32m   2005\u001b[0m \u001b[38;5;28mnext\u001b[39m(output)\n\u001b[1;32m-> 2007\u001b[0m \u001b[38;5;28;01mreturn\u001b[39;00m output \u001b[38;5;28;01mif\u001b[39;00m \u001b[38;5;28mself\u001b[39m\u001b[38;5;241m.\u001b[39mreturn_generator \u001b[38;5;28;01melse\u001b[39;00m \u001b[38;5;28;43mlist\u001b[39;49m\u001b[43m(\u001b[49m\u001b[43moutput\u001b[49m\u001b[43m)\u001b[49m\n",
      "File \u001b[1;32mc:\\Users\\Livan\\OneDrive\\Masaüstü\\Work\\NLP-Project\\nlpproject\\lib\\site-packages\\joblib\\parallel.py:1650\u001b[0m, in \u001b[0;36mParallel._get_outputs\u001b[1;34m(self, iterator, pre_dispatch)\u001b[0m\n\u001b[0;32m   1647\u001b[0m     \u001b[38;5;28;01myield\u001b[39;00m\n\u001b[0;32m   1649\u001b[0m     \u001b[38;5;28;01mwith\u001b[39;00m \u001b[38;5;28mself\u001b[39m\u001b[38;5;241m.\u001b[39m_backend\u001b[38;5;241m.\u001b[39mretrieval_context():\n\u001b[1;32m-> 1650\u001b[0m         \u001b[38;5;28;01myield from\u001b[39;00m \u001b[38;5;28mself\u001b[39m\u001b[38;5;241m.\u001b[39m_retrieve()\n\u001b[0;32m   1652\u001b[0m \u001b[38;5;28;01mexcept\u001b[39;00m \u001b[38;5;167;01mGeneratorExit\u001b[39;00m:\n\u001b[0;32m   1653\u001b[0m     \u001b[38;5;66;03m# The generator has been garbage collected before being fully\u001b[39;00m\n\u001b[0;32m   1654\u001b[0m     \u001b[38;5;66;03m# consumed. This aborts the remaining tasks if possible and warn\u001b[39;00m\n\u001b[0;32m   1655\u001b[0m     \u001b[38;5;66;03m# the user if necessary.\u001b[39;00m\n\u001b[0;32m   1656\u001b[0m     \u001b[38;5;28mself\u001b[39m\u001b[38;5;241m.\u001b[39m_exception \u001b[38;5;241m=\u001b[39m \u001b[38;5;28;01mTrue\u001b[39;00m\n",
      "File \u001b[1;32mc:\\Users\\Livan\\OneDrive\\Masaüstü\\Work\\NLP-Project\\nlpproject\\lib\\site-packages\\joblib\\parallel.py:1762\u001b[0m, in \u001b[0;36mParallel._retrieve\u001b[1;34m(self)\u001b[0m\n\u001b[0;32m   1757\u001b[0m \u001b[38;5;66;03m# If the next job is not ready for retrieval yet, we just wait for\u001b[39;00m\n\u001b[0;32m   1758\u001b[0m \u001b[38;5;66;03m# async callbacks to progress.\u001b[39;00m\n\u001b[0;32m   1759\u001b[0m \u001b[38;5;28;01mif\u001b[39;00m ((\u001b[38;5;28mlen\u001b[39m(\u001b[38;5;28mself\u001b[39m\u001b[38;5;241m.\u001b[39m_jobs) \u001b[38;5;241m==\u001b[39m \u001b[38;5;241m0\u001b[39m) \u001b[38;5;129;01mor\u001b[39;00m\n\u001b[0;32m   1760\u001b[0m     (\u001b[38;5;28mself\u001b[39m\u001b[38;5;241m.\u001b[39m_jobs[\u001b[38;5;241m0\u001b[39m]\u001b[38;5;241m.\u001b[39mget_status(\n\u001b[0;32m   1761\u001b[0m         timeout\u001b[38;5;241m=\u001b[39m\u001b[38;5;28mself\u001b[39m\u001b[38;5;241m.\u001b[39mtimeout) \u001b[38;5;241m==\u001b[39m TASK_PENDING)):\n\u001b[1;32m-> 1762\u001b[0m     \u001b[43mtime\u001b[49m\u001b[38;5;241;43m.\u001b[39;49m\u001b[43msleep\u001b[49m\u001b[43m(\u001b[49m\u001b[38;5;241;43m0.01\u001b[39;49m\u001b[43m)\u001b[49m\n\u001b[0;32m   1763\u001b[0m     \u001b[38;5;28;01mcontinue\u001b[39;00m\n\u001b[0;32m   1765\u001b[0m \u001b[38;5;66;03m# We need to be careful: the job list can be filling up as\u001b[39;00m\n\u001b[0;32m   1766\u001b[0m \u001b[38;5;66;03m# we empty it and Python list are not thread-safe by\u001b[39;00m\n\u001b[0;32m   1767\u001b[0m \u001b[38;5;66;03m# default hence the use of the lock\u001b[39;00m\n",
      "\u001b[1;31mKeyboardInterrupt\u001b[0m: "
     ]
    }
   ],
   "source": [
    "from sklearn.model_selection import cross_val_score\n",
    "\n",
    "results = {}\n",
    "\n",
    "for name, (model, param_grid) in models.items():\n",
    "    print(f\"\\nTraining and tuning {name}...\")\n",
    "    pipeline = Pipeline([('clf', model)])\n",
    "    \n",
    "    grid = GridSearchCV(\n",
    "        pipeline, \n",
    "        param_grid, \n",
    "        cv=cv_strategy, \n",
    "        scoring='f1_macro',\n",
    "        n_jobs=-1,\n",
    "        verbose=1\n",
    "    )\n",
    "    \n",
    "    grid.fit(X_train, y_train)\n",
    "    best_model = grid.best_estimator_\n",
    "    \n",
    "    cv_scores = cross_val_score(best_model, X_train, y_train, \n",
    "                                cv=cv_strategy, scoring='f1_macro')\n",
    "\n",
    "    y_train_pred = best_model.predict(X_train)\n",
    "    y_test_pred = best_model.predict(X_test)\n",
    "\n",
    "    train_acc = accuracy_score(y_train, y_train_pred)\n",
    "    test_acc = accuracy_score(y_test, y_test_pred)\n",
    "    cv_mean = cv_scores.mean()\n",
    "    cv_std = cv_scores.std()\n",
    "\n",
    "    print(f\"{name}\")\n",
    "    print(f\"  - CV Score: {cv_mean:.4f} (+/- {cv_std * 2:.4f})\")\n",
    "    print(f\"  - Training Accuracy: {train_acc:.4f}\")\n",
    "    print(f\"  - Testing Accuracy : {test_acc:.4f}\")\n",
    "    print(f\"  - Gap: {train_acc - test_acc:.4f}\")\n",
    "    print(f\"  - Best Params: {grid.best_params_}\")\n",
    "\n",
    "    results[name] = {\n",
    "        'model': best_model,\n",
    "        'train_acc': train_acc,\n",
    "        'test_acc': test_acc,\n",
    "        'cv_score': cv_mean,\n",
    "        'cv_std': cv_std,\n",
    "        'acc_gap': train_acc - test_acc,\n",
    "        'params': grid.best_params_\n",
    "    }\n"
   ]
  },
  {
   "cell_type": "markdown",
   "id": "7fd4a8c9",
   "metadata": {},
   "source": [
    "Model Accuracy Comparison"
   ]
  },
  {
   "cell_type": "code",
   "execution_count": null,
   "id": "0e402579",
   "metadata": {},
   "outputs": [
    {
     "data": {
      "image/png": "[encoded data removed]",
      "text/plain": [
       "<Figure size 800x500 with 1 Axes>"
      ]
     },
     "metadata": {},
     "output_type": "display_data"
    }
   ],
   "source": [
    "names = list(results.keys())\n",
    "accuracies = [results[name]['test_acc'] for name in names] \n",
    "\n",
    "plt.figure(figsize=(8, 5))\n",
    "plt.bar(names, accuracies, color='skyblue')\n",
    "plt.ylabel(\"Test Accuracy\")\n",
    "plt.title(\"Model Comparison (Test Set)\")\n",
    "plt.ylim(0.8, 1.0)\n",
    "plt.grid(True, axis='y')\n",
    "plt.show()\n"
   ]
  },
  {
   "cell_type": "markdown",
   "id": "0f75dd5a",
   "metadata": {},
   "source": [
    "Model Training and Test Accuracy Comparison"
   ]
  },
  {
   "cell_type": "code",
   "execution_count": null,
   "id": "adb8dc44",
   "metadata": {},
   "outputs": [
    {
     "data": {
      "image/png": "[encoded data removed]",
      "text/plain": [
       "<Figure size 1000x600 with 1 Axes>"
      ]
     },
     "metadata": {},
     "output_type": "display_data"
    }
   ],
   "source": [
    "model_names = list(results.keys())\n",
    "train_scores = [results[m]['train_acc'] for m in model_names]\n",
    "test_scores = [results[m]['test_acc'] for m in model_names]\n",
    "gaps = [results[m]['acc_gap'] for m in model_names]\n",
    "\n",
    "plt.figure(figsize=(10, 6))\n",
    "bar_width = 0.35\n",
    "x = range(len(model_names))\n",
    "\n",
    "plt.bar(x, train_scores, width=bar_width, label='Train Accuracy')\n",
    "plt.bar([i + bar_width for i in x], test_scores, width=bar_width, label='Test Accuracy')\n",
    "plt.xticks([i + bar_width / 2 for i in x], model_names)\n",
    "plt.ylim(0.6, 1.0)\n",
    "plt.title('Train vs Test Accuracy (Overfitting Check)')\n",
    "plt.xlabel('Model')\n",
    "plt.ylabel('Accuracy')\n",
    "plt.legend()\n",
    "plt.grid(True, axis='y')\n",
    "plt.show()\n"
   ]
  },
  {
   "cell_type": "markdown",
   "id": "5ff3b38d",
   "metadata": {},
   "source": [
    "Classification Report"
   ]
  },
  {
   "cell_type": "code",
   "execution_count": null,
   "id": "bfd08b2a",
   "metadata": {},
   "outputs": [
    {
     "name": "stdout",
     "output_type": "stream",
     "text": [
      "\n",
      "==============================\n",
      "Classification Reports\n",
      "==============================\n",
      "\n",
      "Model: LogisticRegression\n",
      "               precision    recall  f1-score   support\n",
      "\n",
      "     business       0.94      0.97      0.96       115\n",
      "entertainment       0.99      0.97      0.98        72\n",
      "     politics       0.95      0.96      0.95        76\n",
      "        sport       1.00      0.99      1.00       102\n",
      "         tech       0.99      0.95      0.97        80\n",
      "\n",
      "     accuracy                           0.97       445\n",
      "    macro avg       0.97      0.97      0.97       445\n",
      " weighted avg       0.97      0.97      0.97       445\n",
      "\n",
      "\n",
      "Model: DecisionTree\n",
      "               precision    recall  f1-score   support\n",
      "\n",
      "     business       0.78      0.76      0.77       115\n",
      "entertainment       0.83      0.68      0.75        72\n",
      "     politics       0.74      0.82      0.78        76\n",
      "        sport       0.82      0.84      0.83       102\n",
      "         tech       0.78      0.84      0.81        80\n",
      "\n",
      "     accuracy                           0.79       445\n",
      "    macro avg       0.79      0.79      0.79       445\n",
      " weighted avg       0.79      0.79      0.79       445\n",
      "\n",
      "\n",
      "Model: SVM\n",
      "               precision    recall  f1-score   support\n",
      "\n",
      "     business       0.96      0.98      0.97       115\n",
      "entertainment       0.99      0.97      0.98        72\n",
      "     politics       0.96      0.96      0.96        76\n",
      "        sport       1.00      0.99      1.00       102\n",
      "         tech       0.99      0.97      0.98        80\n",
      "\n",
      "     accuracy                           0.98       445\n",
      "    macro avg       0.98      0.98      0.98       445\n",
      " weighted avg       0.98      0.98      0.98       445\n",
      "\n",
      "\n",
      "Model: MLP\n",
      "               precision    recall  f1-score   support\n",
      "\n",
      "     business       0.96      0.98      0.97       115\n",
      "entertainment       0.99      0.97      0.98        72\n",
      "     politics       0.96      0.96      0.96        76\n",
      "        sport       1.00      0.99      1.00       102\n",
      "         tech       0.99      0.97      0.98        80\n",
      "\n",
      "     accuracy                           0.98       445\n",
      "    macro avg       0.98      0.98      0.98       445\n",
      " weighted avg       0.98      0.98      0.98       445\n",
      "\n",
      "\n",
      "Model: VotingEnsemble\n",
      "               precision    recall  f1-score   support\n",
      "\n",
      "     business       0.95      0.98      0.97       115\n",
      "entertainment       0.99      0.97      0.98        72\n",
      "     politics       0.96      0.96      0.96        76\n",
      "        sport       1.00      0.99      1.00       102\n",
      "         tech       0.99      0.96      0.97        80\n",
      "\n",
      "     accuracy                           0.98       445\n",
      "    macro avg       0.98      0.97      0.98       445\n",
      " weighted avg       0.98      0.98      0.98       445\n",
      "\n"
     ]
    }
   ],
   "source": [
    "from sklearn.metrics import classification_report\n",
    "\n",
    "print(\"\\n\" + \"=\"*30)\n",
    "print(\"Classification Reports\")\n",
    "print(\"=\"*30)\n",
    "\n",
    "for name, data in results.items():\n",
    "    model = data['model']\n",
    "    y_pred = model.predict(X_test)\n",
    "\n",
    "    print(f\"\\nModel: {name}\")\n",
    "    print(classification_report(y_test, y_pred))\n"
   ]
  },
  {
   "cell_type": "markdown",
   "id": "4e00616b",
   "metadata": {},
   "source": [
    "Learning Curve"
   ]
  },
  {
   "cell_type": "code",
   "execution_count": null,
   "id": "406e162b",
   "metadata": {},
   "outputs": [],
   "source": [
    "from sklearn.model_selection import learning_curve\n",
    "\n",
    "def plot_learning_curves(model, X, y, title):\n",
    "    train_sizes, train_scores, val_scores = learning_curve(\n",
    "        model, X, y, cv=5, n_jobs=-1, \n",
    "        train_sizes=np.linspace(0.1, 1.0, 10),\n",
    "        scoring='f1_macro'\n",
    "    )\n",
    "    \n",
    "    plt.figure(figsize=(10, 6))\n",
    "    plt.plot(train_sizes, np.mean(train_scores, axis=1), 'o-', label='Training Score')\n",
    "    plt.plot(train_sizes, np.mean(val_scores, axis=1), 'o-', label='Validation Score')\n",
    "    plt.fill_between(train_sizes, np.mean(train_scores, axis=1) - np.std(train_scores, axis=1),\n",
    "                     np.mean(train_scores, axis=1) + np.std(train_scores, axis=1), alpha=0.1)\n",
    "    plt.fill_between(train_sizes, np.mean(val_scores, axis=1) - np.std(val_scores, axis=1),\n",
    "                     np.mean(val_scores, axis=1) + np.std(val_scores, axis=1), alpha=0.1)\n",
    "    plt.xlabel('Training Set Size')\n",
    "    plt.ylabel('F1 Score')\n",
    "    plt.title(f'Learning Curves - {title}')\n",
    "    plt.legend()\n",
    "    plt.grid(True)\n",
    "    plt.show()\n",
    "\n",
    "best_model_name = max(results.keys(), key=lambda k: results[k]['test_acc'])\n",
    "best_model = results[best_model_name]['model']\n",
    "plot_learning_curves(best_model, X_train, y_train, best_model_name)\n",
    "\n",
    "print(f\"\\nBest model: {best_model_name} with test accuracy: {results[best_model_name]['test_acc']:.4f}\")\n"
   ]
  },
  {
   "cell_type": "code",
   "execution_count": null,
   "id": "a82079b1",
   "metadata": {},
   "outputs": [
    {
     "data": {
      "text/plain": [
       "['news_classifier.pkl']"
      ]
     },
     "execution_count": 35,
     "metadata": {},
     "output_type": "execute_result"
    }
   ],
   "source": [
    "import joblib\n",
    "\n",
    "joblib.dump(vectorizer, \"tfidf_vectorizer.pkl\")\n",
    "joblib.dump(results[\"VotingEnsemble\"][\"model\"], \"news_classifier.pkl\")\n"
   ]
  },
  {
   "cell_type": "code",
   "execution_count": null,
   "id": "258e6a8b",
   "metadata": {},
   "outputs": [],
   "source": []
  }
 ],
 "metadata": {
  "kernelspec": {
   "display_name": "Python 3",
   "language": "python",
   "name": "python3"
  },
  "language_info": {
   "codemirror_mode": {
    "name": "ipython",
    "version": 3
   },
   "file_extension": ".py",
   "mimetype": "text/x-python",
   "name": "python",
   "nbconvert_exporter": "python",
   "pygments_lexer": "ipython3",
   "version": "3.12.5"
  }
 },
 "nbformat": 4,
 "nbformat_minor": 5
}
